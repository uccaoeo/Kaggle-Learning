{
  "nbformat": 4,
  "nbformat_minor": 0,
  "metadata": {
    "colab": {
      "name": "Beautiful_Soup.ipynb",
      "provenance": [],
      "authorship_tag": "ABX9TyO8KZcx24X5lgebqY869i5K",
      "include_colab_link": true
    },
    "kernelspec": {
      "name": "python3",
      "display_name": "Python 3"
    },
    "language_info": {
      "name": "python"
    }
  },
  "cells": [
    {
      "cell_type": "markdown",
      "metadata": {
        "id": "view-in-github",
        "colab_type": "text"
      },
      "source": [
        "<a href=\"https://colab.research.google.com/github/uccaoeo/Kaggle-Learning/blob/main/Beautiful_Soup.ipynb\" target=\"_parent\"><img src=\"https://colab.research.google.com/assets/colab-badge.svg\" alt=\"Open In Colab\"/></a>"
      ]
    },
    {
      "cell_type": "code",
      "metadata": {
        "id": "lLoz0RLaBLl9"
      },
      "source": [
        "import requests\n",
        "from bs4 import BeautifulSoup as bs\n",
        "import pandas as pd"
      ],
      "execution_count": 20,
      "outputs": []
    },
    {
      "cell_type": "code",
      "metadata": {
        "id": "YpxuCx9HId0k"
      },
      "source": [
        "urls = 'https://en.wikipedia.org/wiki/States_of_Nigeria'\n",
        "df = pd.read_html(urls)\n"
      ],
      "execution_count": 21,
      "outputs": []
    },
    {
      "cell_type": "code",
      "metadata": {
        "id": "I809Jzj_IskO",
        "outputId": "a4713165-2e20-4091-8b64-5ce1ac853c6b",
        "colab": {
          "base_uri": "https://localhost:8080/"
        }
      },
      "source": [
        "len(df)"
      ],
      "execution_count": 22,
      "outputs": [
        {
          "output_type": "execute_result",
          "data": {
            "text/plain": [
              "10"
            ]
          },
          "metadata": {
            "tags": []
          },
          "execution_count": 22
        }
      ]
    },
    {
      "cell_type": "code",
      "metadata": {
        "id": "OXhVOgWCIzHV",
        "outputId": "84629d38-d698-4808-ec96-aa71a99f5027",
        "colab": {
          "base_uri": "https://localhost:8080/",
          "height": 111
        }
      },
      "source": [
        "df1 = df[9]\n",
        "df1.head()"
      ],
      "execution_count": 32,
      "outputs": [
        {
          "output_type": "execute_result",
          "data": {
            "text/html": [
              "<div>\n",
              "<style scoped>\n",
              "    .dataframe tbody tr th:only-of-type {\n",
              "        vertical-align: middle;\n",
              "    }\n",
              "\n",
              "    .dataframe tbody tr th {\n",
              "        vertical-align: top;\n",
              "    }\n",
              "\n",
              "    .dataframe thead th {\n",
              "        text-align: right;\n",
              "    }\n",
              "</style>\n",
              "<table border=\"1\" class=\"dataframe\">\n",
              "  <thead>\n",
              "    <tr style=\"text-align: right;\">\n",
              "      <th></th>\n",
              "      <th>vteArticles on first-level administrative divisions of African countries</th>\n",
              "      <th>vteArticles on first-level administrative divisions of African countries.1</th>\n",
              "    </tr>\n",
              "  </thead>\n",
              "  <tbody>\n",
              "    <tr>\n",
              "      <th>0</th>\n",
              "      <td>Algeria Angola Benin Botswana Burkina Faso Bur...</td>\n",
              "      <td>Algeria Angola Benin Botswana Burkina Faso Bur...</td>\n",
              "    </tr>\n",
              "    <tr>\n",
              "      <th>1</th>\n",
              "      <td>Table of administrative country subdivisions b...</td>\n",
              "      <td>Table of administrative country subdivisions b...</td>\n",
              "    </tr>\n",
              "  </tbody>\n",
              "</table>\n",
              "</div>"
            ],
            "text/plain": [
              "  vteArticles on first-level administrative divisions of African countries vteArticles on first-level administrative divisions of African countries.1\n",
              "0  Algeria Angola Benin Botswana Burkina Faso Bur...                        Algeria Angola Benin Botswana Burkina Faso Bur...                        \n",
              "1  Table of administrative country subdivisions b...                        Table of administrative country subdivisions b...                        "
            ]
          },
          "metadata": {
            "tags": []
          },
          "execution_count": 32
        }
      ]
    },
    {
      "cell_type": "code",
      "metadata": {
        "colab": {
          "base_uri": "https://localhost:8080/"
        },
        "id": "F4CHfXnFBhJG",
        "outputId": "499ddfc8-5788-4d48-850c-372342c95bef"
      },
      "source": [
        "url_link = requests.get('https://keithgalli.github.io/web-scraping/example.html')\n",
        "\n",
        "soup = bs(url_link.content)\n",
        "print(soup.prettify())\n"
      ],
      "execution_count": 13,
      "outputs": [
        {
          "output_type": "stream",
          "text": [
            "<html>\n",
            " <head>\n",
            "  <title>\n",
            "   HTML Example\n",
            "  </title>\n",
            " </head>\n",
            " <body>\n",
            "  <div align=\"middle\">\n",
            "   <h1>\n",
            "    HTML Webpage\n",
            "   </h1>\n",
            "   <p>\n",
            "    Link to more interesting example:\n",
            "    <a href=\"https://keithgalli.github.io/web-scraping/webpage.html\">\n",
            "     keithgalli.github.io/web-scraping/webpage.html\n",
            "    </a>\n",
            "   </p>\n",
            "  </div>\n",
            "  <h2>\n",
            "   A Header\n",
            "  </h2>\n",
            "  <p>\n",
            "   <i>\n",
            "    Some italicized text\n",
            "   </i>\n",
            "  </p>\n",
            "  <h2>\n",
            "   Another header\n",
            "  </h2>\n",
            "  <p id=\"paragraph-id\">\n",
            "   <b>\n",
            "    Some bold text\n",
            "   </b>\n",
            "  </p>\n",
            " </body>\n",
            "</html>\n",
            "\n"
          ],
          "name": "stdout"
        }
      ]
    },
    {
      "cell_type": "code",
      "metadata": {
        "id": "-ioYtd7oE1Vk",
        "outputId": "81b16c65-5541-4a49-fe77-34d9f8484111",
        "colab": {
          "base_uri": "https://localhost:8080/"
        }
      },
      "source": [
        "title = soup.h2\n",
        "title"
      ],
      "execution_count": 17,
      "outputs": [
        {
          "output_type": "execute_result",
          "data": {
            "text/plain": [
              "<h2>A Header</h2>"
            ]
          },
          "metadata": {
            "tags": []
          },
          "execution_count": 17
        }
      ]
    },
    {
      "cell_type": "code",
      "metadata": {
        "id": "yoBetxM3FcLD",
        "outputId": "752d94ae-718c-452e-8560-31688e775425",
        "colab": {
          "base_uri": "https://localhost:8080/"
        }
      },
      "source": [
        "print(soup.get_text())   #Getting all the text in a webpage"
      ],
      "execution_count": 18,
      "outputs": [
        {
          "output_type": "stream",
          "text": [
            "\n",
            "\n",
            "HTML Example\n",
            "\n",
            "\n",
            "\n",
            "HTML Webpage\n",
            "Link to more interesting example: keithgalli.github.io/web-scraping/webpage.html\n",
            "\n",
            "A Header\n",
            "Some italicized text\n",
            "Another header\n",
            "Some bold text\n",
            "\n",
            "\n",
            "\n"
          ],
          "name": "stdout"
        }
      ]
    },
    {
      "cell_type": "markdown",
      "metadata": {
        "id": "2Ha4mNyGFlcN"
      },
      "source": [
        "#### One common task is extracting all the URLs found within a page’s <a>:"
      ]
    },
    {
      "cell_type": "code",
      "metadata": {
        "id": "sG9MA6fiFu_I",
        "outputId": "c3971502-eccf-433a-c5fb-2d50251aab8b",
        "colab": {
          "base_uri": "https://localhost:8080/"
        }
      },
      "source": [
        "for link in soup.find_all('a'):\n",
        "    print(link.get('href'))"
      ],
      "execution_count": 19,
      "outputs": [
        {
          "output_type": "stream",
          "text": [
            "https://keithgalli.github.io/web-scraping/webpage.html\n"
          ],
          "name": "stdout"
        }
      ]
    }
  ]
}